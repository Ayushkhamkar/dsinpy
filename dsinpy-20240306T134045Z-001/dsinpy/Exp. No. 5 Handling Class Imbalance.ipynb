{
 "cells": [
  {
   "cell_type": "code",
   "execution_count": 1,
   "id": "df3f1240",
   "metadata": {},
   "outputs": [],
   "source": [
    "#import pandas\n",
    "import pandas as pd\n",
    "#import numpy\n",
    "import numpy as np\n",
    "#import matplotlib\n",
    "import matplotlib.pyplot as plt\n",
    "#import seaborn\n",
    "import seaborn as sns"
   ]
  },
  {
   "cell_type": "code",
   "execution_count": 2,
   "id": "263f34cf",
   "metadata": {},
   "outputs": [
    {
     "data": {
      "text/html": [
       "<div>\n",
       "<style scoped>\n",
       "    .dataframe tbody tr th:only-of-type {\n",
       "        vertical-align: middle;\n",
       "    }\n",
       "\n",
       "    .dataframe tbody tr th {\n",
       "        vertical-align: top;\n",
       "    }\n",
       "\n",
       "    .dataframe thead th {\n",
       "        text-align: right;\n",
       "    }\n",
       "</style>\n",
       "<table border=\"1\" class=\"dataframe\">\n",
       "  <thead>\n",
       "    <tr style=\"text-align: right;\">\n",
       "      <th></th>\n",
       "      <th>age</th>\n",
       "      <th>job</th>\n",
       "      <th>marital</th>\n",
       "      <th>education</th>\n",
       "      <th>default</th>\n",
       "      <th>balance</th>\n",
       "      <th>housing</th>\n",
       "      <th>loan</th>\n",
       "      <th>contact</th>\n",
       "      <th>day</th>\n",
       "      <th>month</th>\n",
       "      <th>duration</th>\n",
       "      <th>campaign</th>\n",
       "      <th>pdays</th>\n",
       "      <th>previous</th>\n",
       "      <th>poutcome</th>\n",
       "      <th>y</th>\n",
       "    </tr>\n",
       "  </thead>\n",
       "  <tbody>\n",
       "    <tr>\n",
       "      <th>0</th>\n",
       "      <td>58</td>\n",
       "      <td>management</td>\n",
       "      <td>1</td>\n",
       "      <td>2</td>\n",
       "      <td>no</td>\n",
       "      <td>2143</td>\n",
       "      <td>1</td>\n",
       "      <td>no</td>\n",
       "      <td>unknown</td>\n",
       "      <td>NaN</td>\n",
       "      <td>may</td>\n",
       "      <td>261</td>\n",
       "      <td>1</td>\n",
       "      <td>-1</td>\n",
       "      <td>0</td>\n",
       "      <td>unknown</td>\n",
       "      <td>0</td>\n",
       "    </tr>\n",
       "    <tr>\n",
       "      <th>1</th>\n",
       "      <td>44</td>\n",
       "      <td>technician</td>\n",
       "      <td>0</td>\n",
       "      <td>1</td>\n",
       "      <td>no</td>\n",
       "      <td>29</td>\n",
       "      <td>1</td>\n",
       "      <td>no</td>\n",
       "      <td>unknown</td>\n",
       "      <td>NaN</td>\n",
       "      <td>may</td>\n",
       "      <td>151</td>\n",
       "      <td>1</td>\n",
       "      <td>-1</td>\n",
       "      <td>0</td>\n",
       "      <td>unknown</td>\n",
       "      <td>0</td>\n",
       "    </tr>\n",
       "    <tr>\n",
       "      <th>2</th>\n",
       "      <td>33</td>\n",
       "      <td>entrepreneur</td>\n",
       "      <td>1</td>\n",
       "      <td>1</td>\n",
       "      <td>no</td>\n",
       "      <td>2</td>\n",
       "      <td>1</td>\n",
       "      <td>yes</td>\n",
       "      <td>unknown</td>\n",
       "      <td>NaN</td>\n",
       "      <td>may</td>\n",
       "      <td>76</td>\n",
       "      <td>1</td>\n",
       "      <td>-1</td>\n",
       "      <td>0</td>\n",
       "      <td>unknown</td>\n",
       "      <td>0</td>\n",
       "    </tr>\n",
       "    <tr>\n",
       "      <th>3</th>\n",
       "      <td>47</td>\n",
       "      <td>blue-collar</td>\n",
       "      <td>1</td>\n",
       "      <td>3</td>\n",
       "      <td>no</td>\n",
       "      <td>1506</td>\n",
       "      <td>1</td>\n",
       "      <td>no</td>\n",
       "      <td>unknown</td>\n",
       "      <td>NaN</td>\n",
       "      <td>may</td>\n",
       "      <td>92</td>\n",
       "      <td>1</td>\n",
       "      <td>-1</td>\n",
       "      <td>0</td>\n",
       "      <td>unknown</td>\n",
       "      <td>0</td>\n",
       "    </tr>\n",
       "    <tr>\n",
       "      <th>4</th>\n",
       "      <td>33</td>\n",
       "      <td>unknown</td>\n",
       "      <td>0</td>\n",
       "      <td>3</td>\n",
       "      <td>no</td>\n",
       "      <td>1</td>\n",
       "      <td>0</td>\n",
       "      <td>no</td>\n",
       "      <td>unknown</td>\n",
       "      <td>NaN</td>\n",
       "      <td>may</td>\n",
       "      <td>198</td>\n",
       "      <td>1</td>\n",
       "      <td>-1</td>\n",
       "      <td>0</td>\n",
       "      <td>unknown</td>\n",
       "      <td>0</td>\n",
       "    </tr>\n",
       "    <tr>\n",
       "      <th>...</th>\n",
       "      <td>...</td>\n",
       "      <td>...</td>\n",
       "      <td>...</td>\n",
       "      <td>...</td>\n",
       "      <td>...</td>\n",
       "      <td>...</td>\n",
       "      <td>...</td>\n",
       "      <td>...</td>\n",
       "      <td>...</td>\n",
       "      <td>...</td>\n",
       "      <td>...</td>\n",
       "      <td>...</td>\n",
       "      <td>...</td>\n",
       "      <td>...</td>\n",
       "      <td>...</td>\n",
       "      <td>...</td>\n",
       "      <td>...</td>\n",
       "    </tr>\n",
       "    <tr>\n",
       "      <th>40492</th>\n",
       "      <td>25</td>\n",
       "      <td>technician</td>\n",
       "      <td>0</td>\n",
       "      <td>1</td>\n",
       "      <td>no</td>\n",
       "      <td>505</td>\n",
       "      <td>0</td>\n",
       "      <td>yes</td>\n",
       "      <td>cellular</td>\n",
       "      <td>17.0</td>\n",
       "      <td>nov</td>\n",
       "      <td>386</td>\n",
       "      <td>2</td>\n",
       "      <td>-1</td>\n",
       "      <td>0</td>\n",
       "      <td>unknown</td>\n",
       "      <td>1</td>\n",
       "    </tr>\n",
       "    <tr>\n",
       "      <th>40493</th>\n",
       "      <td>51</td>\n",
       "      <td>technician</td>\n",
       "      <td>1</td>\n",
       "      <td>2</td>\n",
       "      <td>no</td>\n",
       "      <td>825</td>\n",
       "      <td>0</td>\n",
       "      <td>no</td>\n",
       "      <td>cellular</td>\n",
       "      <td>17.0</td>\n",
       "      <td>nov</td>\n",
       "      <td>977</td>\n",
       "      <td>3</td>\n",
       "      <td>-1</td>\n",
       "      <td>0</td>\n",
       "      <td>unknown</td>\n",
       "      <td>1</td>\n",
       "    </tr>\n",
       "    <tr>\n",
       "      <th>40494</th>\n",
       "      <td>71</td>\n",
       "      <td>retired</td>\n",
       "      <td>divorced</td>\n",
       "      <td>0</td>\n",
       "      <td>no</td>\n",
       "      <td>1729</td>\n",
       "      <td>0</td>\n",
       "      <td>no</td>\n",
       "      <td>cellular</td>\n",
       "      <td>17.0</td>\n",
       "      <td>nov</td>\n",
       "      <td>456</td>\n",
       "      <td>2</td>\n",
       "      <td>-1</td>\n",
       "      <td>0</td>\n",
       "      <td>unknown</td>\n",
       "      <td>1</td>\n",
       "    </tr>\n",
       "    <tr>\n",
       "      <th>40495</th>\n",
       "      <td>57</td>\n",
       "      <td>blue-collar</td>\n",
       "      <td>1</td>\n",
       "      <td>1</td>\n",
       "      <td>no</td>\n",
       "      <td>668</td>\n",
       "      <td>0</td>\n",
       "      <td>no</td>\n",
       "      <td>telephone</td>\n",
       "      <td>17.0</td>\n",
       "      <td>nov</td>\n",
       "      <td>508</td>\n",
       "      <td>4</td>\n",
       "      <td>-1</td>\n",
       "      <td>0</td>\n",
       "      <td>unknown</td>\n",
       "      <td>0</td>\n",
       "    </tr>\n",
       "    <tr>\n",
       "      <th>40496</th>\n",
       "      <td>37</td>\n",
       "      <td>entrepreneur</td>\n",
       "      <td>1</td>\n",
       "      <td>1</td>\n",
       "      <td>no</td>\n",
       "      <td>2971</td>\n",
       "      <td>0</td>\n",
       "      <td>no</td>\n",
       "      <td>cellular</td>\n",
       "      <td>17.0</td>\n",
       "      <td>nov</td>\n",
       "      <td>361</td>\n",
       "      <td>2</td>\n",
       "      <td>188</td>\n",
       "      <td>11</td>\n",
       "      <td>other</td>\n",
       "      <td>0</td>\n",
       "    </tr>\n",
       "  </tbody>\n",
       "</table>\n",
       "<p>40497 rows × 17 columns</p>\n",
       "</div>"
      ],
      "text/plain": [
       "       age           job   marital  education default  balance  housing loan  \\\n",
       "0       58    management         1          2      no     2143        1   no   \n",
       "1       44    technician         0          1      no       29        1   no   \n",
       "2       33  entrepreneur         1          1      no        2        1  yes   \n",
       "3       47   blue-collar         1          3      no     1506        1   no   \n",
       "4       33       unknown         0          3      no        1        0   no   \n",
       "...    ...           ...       ...        ...     ...      ...      ...  ...   \n",
       "40492   25    technician         0          1      no      505        0  yes   \n",
       "40493   51    technician         1          2      no      825        0   no   \n",
       "40494   71       retired  divorced          0      no     1729        0   no   \n",
       "40495   57   blue-collar         1          1      no      668        0   no   \n",
       "40496   37  entrepreneur         1          1      no     2971        0   no   \n",
       "\n",
       "         contact   day month  duration  campaign  pdays  previous poutcome  y  \n",
       "0        unknown   NaN   may       261         1     -1         0  unknown  0  \n",
       "1        unknown   NaN   may       151         1     -1         0  unknown  0  \n",
       "2        unknown   NaN   may        76         1     -1         0  unknown  0  \n",
       "3        unknown   NaN   may        92         1     -1         0  unknown  0  \n",
       "4        unknown   NaN   may       198         1     -1         0  unknown  0  \n",
       "...          ...   ...   ...       ...       ...    ...       ...      ... ..  \n",
       "40492   cellular  17.0   nov       386         2     -1         0  unknown  1  \n",
       "40493   cellular  17.0   nov       977         3     -1         0  unknown  1  \n",
       "40494   cellular  17.0   nov       456         2     -1         0  unknown  1  \n",
       "40495  telephone  17.0   nov       508         4     -1         0  unknown  0  \n",
       "40496   cellular  17.0   nov       361         2    188        11    other  0  \n",
       "\n",
       "[40497 rows x 17 columns]"
      ]
     },
     "execution_count": 2,
     "metadata": {},
     "output_type": "execute_result"
    }
   ],
   "source": [
    "# use pandas to import csv file\n",
    "df = pd.read_csv(\"./bank_3.csv\")\n",
    "# too see max columns\n",
    "pd.set_option('display.max_columns',None)\n",
    "# print dataframe\n",
    "df"
   ]
  },
  {
   "cell_type": "code",
   "execution_count": 3,
   "id": "6c98b798",
   "metadata": {},
   "outputs": [
    {
     "name": "stdout",
     "output_type": "stream",
     "text": [
      "<class 'pandas.core.frame.DataFrame'>\n",
      "RangeIndex: 40497 entries, 0 to 40496\n",
      "Data columns (total 17 columns):\n",
      " #   Column     Non-Null Count  Dtype  \n",
      "---  ------     --------------  -----  \n",
      " 0   age        40497 non-null  int64  \n",
      " 1   job        40497 non-null  object \n",
      " 2   marital    40497 non-null  object \n",
      " 3   education  40497 non-null  int64  \n",
      " 4   default    40497 non-null  object \n",
      " 5   balance    40497 non-null  int64  \n",
      " 6   housing    40497 non-null  int64  \n",
      " 7   loan       40497 non-null  object \n",
      " 8   contact    40497 non-null  object \n",
      " 9   day        40335 non-null  float64\n",
      " 10  month      40497 non-null  object \n",
      " 11  duration   40497 non-null  int64  \n",
      " 12  campaign   40497 non-null  int64  \n",
      " 13  pdays      40497 non-null  int64  \n",
      " 14  previous   40497 non-null  int64  \n",
      " 15  poutcome   40497 non-null  object \n",
      " 16  y          40497 non-null  int64  \n",
      "dtypes: float64(1), int64(9), object(7)\n",
      "memory usage: 5.3+ MB\n"
     ]
    }
   ],
   "source": [
    "df.info()"
   ]
  },
  {
   "cell_type": "code",
   "execution_count": 4,
   "id": "45bb5a6f",
   "metadata": {},
   "outputs": [
    {
     "name": "stdout",
     "output_type": "stream",
     "text": [
      "age            0\n",
      "job            0\n",
      "marital        0\n",
      "education      0\n",
      "default        0\n",
      "balance        0\n",
      "housing        0\n",
      "loan           0\n",
      "contact        0\n",
      "day          162\n",
      "month          0\n",
      "duration       0\n",
      "campaign       0\n",
      "pdays          0\n",
      "previous       0\n",
      "poutcome       0\n",
      "y              0\n",
      "dtype: int64\n",
      "Missing values distribution: \n",
      "age          0.000\n",
      "job          0.000\n",
      "marital      0.000\n",
      "education    0.000\n",
      "default      0.000\n",
      "balance      0.000\n",
      "housing      0.000\n",
      "loan         0.000\n",
      "contact      0.000\n",
      "day          0.004\n",
      "month        0.000\n",
      "duration     0.000\n",
      "campaign     0.000\n",
      "pdays        0.000\n",
      "previous     0.000\n",
      "poutcome     0.000\n",
      "y            0.000\n",
      "dtype: float64\n"
     ]
    }
   ],
   "source": [
    "#New dataframe \n",
    "new_df = df\n",
    "#Checking for null values \n",
    "print(new_df.isnull().sum()) \n",
    "print(\"Missing values distribution: \")\n",
    "print(new_df.isnull().mean())"
   ]
  },
  {
   "cell_type": "code",
   "execution_count": 5,
   "id": "58cd3a3b",
   "metadata": {},
   "outputs": [
    {
     "name": "stdout",
     "output_type": "stream",
     "text": [
      "False\n"
     ]
    }
   ],
   "source": [
    "# #Checking for duplicates\n",
    "print(new_df.duplicated().any()) "
   ]
  },
  {
   "cell_type": "code",
   "execution_count": 6,
   "id": "01de260a",
   "metadata": {},
   "outputs": [
    {
     "name": "stdout",
     "output_type": "stream",
     "text": [
      "0        False\n",
      "1        False\n",
      "2        False\n",
      "3        False\n",
      "4        False\n",
      "         ...  \n",
      "40492    False\n",
      "40493    False\n",
      "40494    False\n",
      "40495    False\n",
      "40496    False\n",
      "Length: 40497, dtype: bool\n",
      "(40497, 17)\n"
     ]
    }
   ],
   "source": [
    "print(new_df.duplicated())\n",
    "print(new_df.shape) "
   ]
  },
  {
   "cell_type": "code",
   "execution_count": 9,
   "id": "ff7df50f",
   "metadata": {},
   "outputs": [
    {
     "name": "stdout",
     "output_type": "stream",
     "text": [
      "   age           job marital  education default  balance  housing loan  \\\n",
      "0   58    management       1          2      no     2143        1    0   \n",
      "1   44    technician       0          1      no       29        1    0   \n",
      "2   33  entrepreneur       1          1      no        2        1    1   \n",
      "3   47   blue-collar       1          3      no     1506        1    0   \n",
      "4   33       unknown       0          3      no        1        0    0   \n",
      "\n",
      "   contact  day month  duration  campaign  pdays  previous poutcome  y  \n",
      "0  unknown  NaN   may       261         1     -1         0  unknown  0  \n",
      "1  unknown  NaN   may       151         1     -1         0  unknown  0  \n",
      "2  unknown  NaN   may        76         1     -1         0  unknown  0  \n",
      "3  unknown  NaN   may        92         1     -1         0  unknown  0  \n",
      "4  unknown  NaN   may       198         1     -1         0  unknown  0  \n"
     ]
    }
   ],
   "source": [
    "#Replacing string values with integer \n",
    "new_df[\"loan\"].replace({\"yes\":\"1\", \"no\":\"0\"}, inplace = True) \n",
    "print(new_df.head())"
   ]
  },
  {
   "cell_type": "code",
   "execution_count": 10,
   "id": "d28d1623",
   "metadata": {},
   "outputs": [
    {
     "name": "stdout",
     "output_type": "stream",
     "text": [
      "['management' 'technician' 'entrepreneur' 'blue-collar' 'unknown'\n",
      " 'retired' 'admin.' 'services' 'self-employed' 'unemployed' 'housemaid'\n",
      " 'student']\n"
     ]
    }
   ],
   "source": [
    "#Finding unique values in \"job\" \n",
    "print(new_df[\"job\"].unique()) "
   ]
  },
  {
   "cell_type": "code",
   "execution_count": 11,
   "id": "0e1233ae",
   "metadata": {},
   "outputs": [
    {
     "name": "stdout",
     "output_type": "stream",
     "text": [
      "   age           job marital  education default  balance  housing loan  \\\n",
      "0   58    management       1          2      no     2143        1    0   \n",
      "1   44    technician       0          1      no       29        1    0   \n",
      "2   33  entrepreneur       1          1      no        2        1    1   \n",
      "3   47   blue-collar       1          3      no     1506        1    0   \n",
      "4   33       unknown       0          3      no        1        0    0   \n",
      "\n",
      "   contact  day month  duration  campaign  pdays  previous poutcome  y  \n",
      "0  unknown  NaN   may       261         1     -1         0  unknown  0  \n",
      "1  unknown  NaN   may       151         1     -1         0  unknown  0  \n",
      "2  unknown  NaN   may        76         1     -1         0  unknown  0  \n",
      "3  unknown  NaN   may        92         1     -1         0  unknown  0  \n",
      "4  unknown  NaN   may       198         1     -1         0  unknown  0  \n"
     ]
    }
   ],
   "source": [
    "#Replacing string values with int\n",
    " \n",
    "new_df['education'].replace({'primary':'0','secondary':'1','tertiary':'2','unknown':' 3'}, inplace = True)\n",
    "print(new_df.head())"
   ]
  },
  {
   "cell_type": "code",
   "execution_count": 12,
   "id": "c69d4108",
   "metadata": {},
   "outputs": [
    {
     "name": "stdout",
     "output_type": "stream",
     "text": [
      "(40497, 17)\n",
      "   age           job marital  education default  balance  housing loan  \\\n",
      "0   58    management       1          2      no     2143        1    0   \n",
      "1   44    technician       0          1      no       29        1    0   \n",
      "2   33  entrepreneur       1          1      no        2        1    1   \n",
      "3   47   blue-collar       1          3      no     1506        1    0   \n",
      "4   33       unknown       0          3      no        1        0    0   \n",
      "\n",
      "   contact  day month  duration  campaign  pdays  previous poutcome  y  \n",
      "0  unknown  NaN   may       261         1     -1         0  unknown  0  \n",
      "1  unknown  NaN   may       151         1     -1         0  unknown  0  \n",
      "2  unknown  NaN   may        76         1     -1         0  unknown  0  \n",
      "3  unknown  NaN   may        92         1     -1         0  unknown  0  \n",
      "4  unknown  NaN   may       198         1     -1         0  unknown  0  \n"
     ]
    }
   ],
   "source": [
    "#Describing data after preprocessing \n",
    "print(new_df.shape) \n",
    "print(new_df.head())"
   ]
  },
  {
   "cell_type": "code",
   "execution_count": 18,
   "id": "ed9ea180",
   "metadata": {},
   "outputs": [
    {
     "data": {
      "image/png": "[encoded data removed]",
      "text/plain": [
       "<Figure size 600x600 with 1 Axes>"
      ]
     },
     "metadata": {},
     "output_type": "display_data"
    }
   ],
   "source": [
    "\n",
    "new_df.age.value_counts()\n",
    "plt.figure(figsize=(6,6))\n",
    "sns.countplot(x='age', data=new_df)\n",
    "plt.title('age Label')\n",
    "plt.show()"
   ]
  },
  {
   "cell_type": "code",
   "execution_count": 19,
   "id": "47028b14",
   "metadata": {},
   "outputs": [],
   "source": [
    "from sklearn.datasets import make_classification\n",
    "X, y = make_classification(n_classes=2, class_sep=0.5,\n",
    "weights=[0.05, 0.95], n_informative=2, n_redundant=0, flip_y=0,\n",
    "n_features=2, n_clusters_per_class=1, n_samples=1000, random_state=10)"
   ]
  },
  {
   "cell_type": "code",
   "execution_count": 20,
   "id": "fbf949d2",
   "metadata": {},
   "outputs": [],
   "source": [
    "from sklearn.model_selection import train_test_split\n",
    "  \n",
    "# split into 70:30 ration\n",
    "X_train, X_test, y_train, y_test = train_test_split(X, y, test_size = 0.3, random_state = 0)"
   ]
  },
  {
   "cell_type": "code",
   "execution_count": 21,
   "id": "448db6cd",
   "metadata": {},
   "outputs": [
    {
     "ename": "ModuleNotFoundError",
     "evalue": "No module named 'imblearn'",
     "output_type": "error",
     "traceback": [
      "\u001b[1;31m---------------------------------------------------------------------------\u001b[0m",
      "\u001b[1;31mModuleNotFoundError\u001b[0m                       Traceback (most recent call last)",
      "Cell \u001b[1;32mIn[21], line 1\u001b[0m\n\u001b[1;32m----> 1\u001b[0m \u001b[38;5;28;01mfrom\u001b[39;00m \u001b[38;5;21;01mimblearn\u001b[39;00m\u001b[38;5;21;01m.\u001b[39;00m\u001b[38;5;21;01mover_sampling\u001b[39;00m \u001b[38;5;28;01mimport\u001b[39;00m SMOTE\n\u001b[0;32m      2\u001b[0m sm \u001b[38;5;241m=\u001b[39m SMOTE(random_state\u001b[38;5;241m=\u001b[39m\u001b[38;5;241m42\u001b[39m)\n\u001b[0;32m      3\u001b[0m X_res, y_res \u001b[38;5;241m=\u001b[39m sm\u001b[38;5;241m.\u001b[39mfit_resample(X_train, y_train)\n",
      "\u001b[1;31mModuleNotFoundError\u001b[0m: No module named 'imblearn'"
     ]
    }
   ],
   "source": [
    "from imblearn.over_sampling import SMOTE\n",
    "sm = SMOTE(random_state=42)\n",
    "X_res, y_res = sm.fit_resample(X_train, y_train)"
   ]
  },
  {
   "cell_type": "code",
   "execution_count": 22,
   "id": "17c668be",
   "metadata": {},
   "outputs": [
    {
     "name": "stdout",
     "output_type": "stream",
     "text": [
      "Number transactions X_train dataset:  (700, 2)\n",
      "Number transactions y_train dataset:  (700,)\n",
      "Number transactions X_test dataset:  (300, 2)\n",
      "Number transactions y_test dataset:  (300,)\n"
     ]
    }
   ],
   "source": [
    "# describes info about train and test set\n",
    "print(\"Number transactions X_train dataset: \", X_train.shape)\n",
    "print(\"Number transactions y_train dataset: \", y_train.shape)\n",
    "print(\"Number transactions X_test dataset: \", X_test.shape)\n",
    "print(\"Number transactions y_test dataset: \", y_test.shape)"
   ]
  },
  {
   "cell_type": "code",
   "execution_count": null,
   "id": "e744562b",
   "metadata": {},
   "outputs": [],
   "source": []
  }
 ],
 "metadata": {
  "kernelspec": {
   "display_name": "Python 3 (ipykernel)",
   "language": "python",
   "name": "python3"
  },
  "language_info": {
   "codemirror_mode": {
    "name": "ipython",
    "version": 3
   },
   "file_extension": ".py",
   "mimetype": "text/x-python",
   "name": "python",
   "nbconvert_exporter": "python",
   "pygments_lexer": "ipython3",
   "version": "3.11.3"
  }
 },
 "nbformat": 4,
 "nbformat_minor": 5
}
