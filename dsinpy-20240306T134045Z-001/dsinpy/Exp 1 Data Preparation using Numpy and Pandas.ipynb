{
 "cells": [
  {
   "cell_type": "code",
   "execution_count": 1,
   "id": "14591827",
   "metadata": {},
   "outputs": [],
   "source": [
    "# import the pandas library\n",
    "import pandas as pd\n",
    "import numpy as np"
   ]
  },
  {
   "cell_type": "code",
   "execution_count": 2,
   "id": "a21a497a",
   "metadata": {},
   "outputs": [],
   "source": [
    "df = pd.read_csv(r\"C:\\Users\\student\\Downloads\\bank_marketing.csv\")"
   ]
  },
  {
   "cell_type": "code",
   "execution_count": 3,
   "id": "9545d830",
   "metadata": {},
   "outputs": [
    {
     "name": "stdout",
     "output_type": "stream",
     "text": [
      "(45211, 17)\n"
     ]
    }
   ],
   "source": [
    "# To print no. of samples and attributes\n",
    "print(df.shape)\n",
    "\n"
   ]
  },
  {
   "cell_type": "code",
   "execution_count": 4,
   "id": "85a6e3d7",
   "metadata": {},
   "outputs": [
    {
     "name": "stdout",
     "output_type": "stream",
     "text": [
      "['age', 'job', 'marital', 'education', 'default', 'balance', 'housing', 'loan', 'contact', 'day', 'month', 'duration', 'campaign', 'pdays', 'previous', 'poutcome', 'y']\n"
     ]
    }
   ],
   "source": [
    "# getting the columns of the dataset\n",
    "columns = list(df.columns)\n",
    "print(columns)"
   ]
  },
  {
   "cell_type": "code",
   "execution_count": 5,
   "id": "9555bc50",
   "metadata": {},
   "outputs": [
    {
     "name": "stdout",
     "output_type": "stream",
     "text": [
      "   age           job  marital  education default  balance housing loan  \\\n",
      "0   58    management  married   tertiary      no     2143     yes   no   \n",
      "1   44    technician   single  secondary      no       29     yes   no   \n",
      "2   33  entrepreneur  married  secondary      no        2     yes  yes   \n",
      "3   47   blue-collar  married    unknown      no     1506     yes   no   \n",
      "4   33       unknown   single    unknown      no        1      no   no   \n",
      "\n",
      "   contact  day month  duration  campaign  pdays  previous poutcome   y  \n",
      "0  unknown  NaN   may       261         1     -1         0  unknown  no  \n",
      "1  unknown  NaN   may       151         1     -1         0  unknown  no  \n",
      "2  unknown  NaN   may        76         1     -1         0  unknown  no  \n",
      "3  unknown  NaN   may        92         1     -1         0  unknown  no  \n",
      "4  unknown  NaN   may       198         1     -1         0  unknown  no  \n"
     ]
    }
   ],
   "source": [
    "# To print first five samples\n",
    "print(df.head()) "
   ]
  },
  {
   "cell_type": "code",
   "execution_count": 6,
   "id": "3c121e96",
   "metadata": {},
   "outputs": [
    {
     "name": "stdout",
     "output_type": "stream",
     "text": [
      "                age        balance           day      duration      campaign  \\\n",
      "count  45211.000000   45211.000000  45042.000000  45211.000000  45211.000000   \n",
      "mean      40.936210    1362.272058     15.846965    258.163080      2.763841   \n",
      "std       10.618762    3044.765829      8.311659    257.527812      3.098021   \n",
      "min       18.000000   -8019.000000      1.000000      0.000000      1.000000   \n",
      "25%       33.000000      72.000000      8.000000    103.000000      1.000000   \n",
      "50%       39.000000     448.000000     16.000000    180.000000      2.000000   \n",
      "75%       48.000000    1428.000000     21.000000    319.000000      3.000000   \n",
      "max       95.000000  102127.000000     31.000000   4918.000000     63.000000   \n",
      "\n",
      "              pdays      previous  \n",
      "count  45211.000000  45211.000000  \n",
      "mean      40.197828      0.580323  \n",
      "std      100.128746      2.303441  \n",
      "min       -1.000000      0.000000  \n",
      "25%       -1.000000      0.000000  \n",
      "50%       -1.000000      0.000000  \n",
      "75%       -1.000000      0.000000  \n",
      "max      871.000000    275.000000  \n"
     ]
    }
   ],
   "source": [
    "#Describing dataset \n",
    "print(df.describe()) "
   ]
  },
  {
   "cell_type": "code",
   "execution_count": 7,
   "id": "9be19556",
   "metadata": {},
   "outputs": [
    {
     "name": "stdout",
     "output_type": "stream",
     "text": [
      "age            0\n",
      "job            0\n",
      "marital        0\n",
      "education      0\n",
      "default        0\n",
      "balance        0\n",
      "housing        0\n",
      "loan           0\n",
      "contact        0\n",
      "day          169\n",
      "month          0\n",
      "duration       0\n",
      "campaign       0\n",
      "pdays          0\n",
      "previous       0\n",
      "poutcome       0\n",
      "y              0\n",
      "dtype: int64\n",
      "Missing values distribution: \n",
      "age          0.000000\n",
      "job          0.000000\n",
      "marital      0.000000\n",
      "education    0.000000\n",
      "default      0.000000\n",
      "balance      0.000000\n",
      "housing      0.000000\n",
      "loan         0.000000\n",
      "contact      0.000000\n",
      "day          0.003738\n",
      "month        0.000000\n",
      "duration     0.000000\n",
      "campaign     0.000000\n",
      "pdays        0.000000\n",
      "previous     0.000000\n",
      "poutcome     0.000000\n",
      "y            0.000000\n",
      "dtype: float64\n"
     ]
    }
   ],
   "source": [
    "#New dataframe \n",
    "new_df = df\n",
    "#new_df.isnull()\n",
    "#Checking for null values \n",
    "print(new_df.isnull().sum()) \n",
    "print(\"Missing values distribution: \")\n",
    "print(new_df.isnull().mean())\n",
    "#print(new_df.shape) \n",
    "#new_df.duplicated()"
   ]
  },
  {
   "cell_type": "code",
   "execution_count": 8,
   "id": "8ce336fc",
   "metadata": {},
   "outputs": [
    {
     "name": "stdout",
     "output_type": "stream",
     "text": [
      "False\n",
      "0        False\n",
      "1        False\n",
      "2        False\n",
      "3        False\n",
      "4        False\n",
      "         ...  \n",
      "45206    False\n",
      "45207    False\n",
      "45208    False\n",
      "45209    False\n",
      "45210    False\n",
      "Length: 45211, dtype: bool\n",
      "(45211, 17)\n"
     ]
    }
   ],
   "source": [
    "# #Checking for duplicates\n",
    "print(new_df.duplicated().any()) \n",
    "print(new_df.duplicated())\n",
    "print(new_df.shape) "
   ]
  },
  {
   "cell_type": "code",
   "execution_count": 9,
   "id": "4745c3ed",
   "metadata": {},
   "outputs": [
    {
     "name": "stdout",
     "output_type": "stream",
     "text": [
      "Column datatypes: \n",
      "age            int64\n",
      "job           object\n",
      "marital       object\n",
      "education     object\n",
      "default       object\n",
      "balance        int64\n",
      "housing       object\n",
      "loan          object\n",
      "contact       object\n",
      "day          float64\n",
      "month         object\n",
      "duration       int64\n",
      "campaign       int64\n",
      "pdays          int64\n",
      "previous       int64\n",
      "poutcome      object\n",
      "y             object\n",
      "dtype: object\n"
     ]
    }
   ],
   "source": [
    "print(\"Column datatypes: \")\n",
    "print(new_df.dtypes)"
   ]
  },
  {
   "cell_type": "code",
   "execution_count": 15,
   "id": "0ab6e392",
   "metadata": {},
   "outputs": [
    {
     "name": "stdout",
     "output_type": "stream",
     "text": [
      "   age           job marital education default  balance housing loan  contact  \\\n",
      "0   58    management       1         2      no     2143       1    0  unknown   \n",
      "1   44    technician       0         1      no       29       1    0  unknown   \n",
      "2   33  entrepreneur       1         1      no        2       1    1  unknown   \n",
      "3   47   blue-collar       1         3      no     1506       1    0  unknown   \n",
      "4   33       unknown       0         3      no        1       0    0  unknown   \n",
      "\n",
      "   day month  duration  campaign  pdays  previous poutcome  y  \n",
      "0  NaN   may       261         1     -1         0  unknown  0  \n",
      "1  NaN   may       151         1     -1         0  unknown  0  \n",
      "2  NaN   may        76         1     -1         0  unknown  0  \n",
      "3  NaN   may        92         1     -1         0  unknown  0  \n",
      "4  NaN   may       198         1     -1         0  unknown  0  \n",
      "(45211, 17)\n"
     ]
    }
   ],
   "source": [
    "#Replacing string values with integer \n",
    "new_df[\"housing\"].replace({\"yes\":\"1\", \"no\":\"0\"}, inplace = True) \n",
    "new_df[\"loan\"].replace({\"yes\":\"1\", \"no\":\"0\"}, inplace = True) \n",
    "new_df[\"marital\"].replace({\"married\":\"1\", \"single\":\"0\"}, inplace = True) \n",
    "new_df[\"y\"].replace({\"yes\":\"1\", \"no\":\"0\"}, inplace = True) \n",
    "print(new_df.head())\n",
    "print(new_df.shape) "
   ]
  },
  {
   "cell_type": "code",
   "execution_count": 16,
   "id": "be1b40b9",
   "metadata": {},
   "outputs": [
    {
     "name": "stdout",
     "output_type": "stream",
     "text": [
      "['management' 'technician' 'entrepreneur' 'blue-collar' 'unknown'\n",
      " 'retired' 'admin.' 'services' 'self-employed' 'unemployed' 'housemaid'\n",
      " 'student']\n"
     ]
    }
   ],
   "source": [
    "#Finding unique values in \"job\" \n",
    "print(new_df[\"job\"].unique()) "
   ]
  },
  {
   "cell_type": "code",
   "execution_count": 17,
   "id": "916a2dba",
   "metadata": {},
   "outputs": [
    {
     "name": "stdout",
     "output_type": "stream",
     "text": [
      "   age           job marital education default  balance housing loan  contact  \\\n",
      "0   58    management       1         2      no     2143       1    0  unknown   \n",
      "1   44    technician       0         1      no       29       1    0  unknown   \n",
      "2   33  entrepreneur       1         1      no        2       1    1  unknown   \n",
      "3   47   blue-collar       1         3      no     1506       1    0  unknown   \n",
      "4   33       unknown       0         3      no        1       0    0  unknown   \n",
      "\n",
      "   day month  duration  campaign  pdays  previous poutcome  y  \n",
      "0  NaN   may       261         1     -1         0  unknown  0  \n",
      "1  NaN   may       151         1     -1         0  unknown  0  \n",
      "2  NaN   may        76         1     -1         0  unknown  0  \n",
      "3  NaN   may        92         1     -1         0  unknown  0  \n",
      "4  NaN   may       198         1     -1         0  unknown  0  \n"
     ]
    }
   ],
   "source": [
    "#Replacing string values with int\n",
    " \n",
    "new_df['education'].replace({'primary':'0','secondary':'1','tertiary':'2','unknown':' 3'}, inplace = True)\n",
    "print(new_df.head())"
   ]
  },
  {
   "cell_type": "code",
   "execution_count": 18,
   "id": "8385cbed",
   "metadata": {},
   "outputs": [
    {
     "name": "stdout",
     "output_type": "stream",
     "text": [
      "(45211, 17)\n",
      "   age           job marital education default  balance housing loan  contact  \\\n",
      "0   58    management       1         2      no     2143       1    0  unknown   \n",
      "1   44    technician       0         1      no       29       1    0  unknown   \n",
      "2   33  entrepreneur       1         1      no        2       1    1  unknown   \n",
      "3   47   blue-collar       1         3      no     1506       1    0  unknown   \n",
      "4   33       unknown       0         3      no        1       0    0  unknown   \n",
      "\n",
      "   day month  duration  campaign  pdays  previous poutcome  y  \n",
      "0  NaN   may       261         1     -1         0  unknown  0  \n",
      "1  NaN   may       151         1     -1         0  unknown  0  \n",
      "2  NaN   may        76         1     -1         0  unknown  0  \n",
      "3  NaN   may        92         1     -1         0  unknown  0  \n",
      "4  NaN   may       198         1     -1         0  unknown  0  \n"
     ]
    }
   ],
   "source": [
    "#Describing data after preprocessing \n",
    "print(new_df.shape) \n",
    "print(new_df.head())"
   ]
  },
  {
   "cell_type": "code",
   "execution_count": 19,
   "id": "6cf064d2",
   "metadata": {},
   "outputs": [],
   "source": [
    "new_df.to_csv('bank_1.csv', header = True ,index = False)"
   ]
  }
 ],
 "metadata": {
  "kernelspec": {
   "display_name": "Python 3 (ipykernel)",
   "language": "python",
   "name": "python3"
  },
  "language_info": {
   "codemirror_mode": {
    "name": "ipython",
    "version": 3
   },
   "file_extension": ".py",
   "mimetype": "text/x-python",
   "name": "python",
   "nbconvert_exporter": "python",
   "pygments_lexer": "ipython3",
   "version": "3.11.3"
  }
 },
 "nbformat": 4,
 "nbformat_minor": 5
}
